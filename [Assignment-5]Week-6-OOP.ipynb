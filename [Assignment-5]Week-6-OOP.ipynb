{
 "cells": [
  {
   "cell_type": "code",
   "execution_count": 11,
   "id": "190cd901",
   "metadata": {},
   "outputs": [
    {
     "name": "stdout",
     "output_type": "stream",
     "text": [
      "Model :  BMW\n",
      "Rent per days :  1000\n",
      "Available :  True\n",
      "Car returned\n"
     ]
    }
   ],
   "source": [
    "class Car:\n",
    "    def __init__(self,model, rent_per_day, available):\n",
    "        self.model = model\n",
    "        self.rent_per_day = rent_per_day\n",
    "        self.available = True\n",
    "    def rent(self, days):\n",
    "        if self.available:\n",
    "            total_cost = self.rent_per_day*days\n",
    "            print(\"Car rented. Total cost = \", total_cost)\n",
    "        else:\n",
    "            print(\"Car not available\")\n",
    "    def return_car(self):\n",
    "        self.available = True\n",
    "        print(\"Car returned\")\n",
    "    def display(self):\n",
    "        print(\"Model : \", self.model)  \n",
    "        print(\"Rent per days : \", self.rent_per_day)\n",
    "        print(\"Available : \",self.available)  \n",
    "car1=Car(\"BMW\",1000,True)\n",
    "car1.display()\n",
    "car1.return_car()\n"
   ]
  },
  {
   "cell_type": "code",
   "execution_count": 1,
   "id": "6e20a8a6",
   "metadata": {},
   "outputs": [],
   "source": [
    "def add_mark(self, subject, score):\n",
    "    if subject not in self.marks:\n",
    "        self.marks[subject] = score\n",
    "        print(\"Added a new subject\")\n",
    "    else:\n",
    "        old_score = self.marks[subject]\n",
    "        self.marks[subject] = score\n",
    "        print(\"Update the score of the subject\")\n",
    "        print(\"Old_score=\", old_score)\n",
    "        print(\"New_score=\", score)\n"
   ]
  },
  {
   "cell_type": "code",
   "execution_count": 6,
   "id": "0944acc9",
   "metadata": {},
   "outputs": [],
   "source": [
    "class person:\n",
    "    def __int__(self, name, age):\n",
    "        self.name = name\n",
    "        self.age = age\n",
    "    def display(self):\n",
    "        print(\"Name : \", self.name)\n",
    "        print(\"Age : \", self.age)\n",
    "class Student(person):\n",
    "    def __init__(self, name, age):\n",
    "        super().__init__(name, age)\n",
    "        self.marks = {}\n",
    "    def add_mark(self, subject, score):\n",
    "        if subject not in self.marks:\n",
    "            self.marks[subject] = score\n",
    "            print(\"Added a new subject\")\n",
    "        else:\n",
    "            old_score = self.marks[subject]\n",
    "            self.marks[subject] = score\n",
    "            print(\"Update the score of the subject\")\n",
    "            print(\"Old_score=\", old_score)\n",
    "            print(\"New_score=\", score)\n",
    "    def display_marks(self):\n",
    "        if not self.marks:\n",
    "            print(\"No marks available.\")\n",
    "        else:\n",
    "            for subject, score in self.marks.items():\n",
    "                print(f\"{subject}: {score}\")\n",
    "    def average(self):\n",
    "        if not self.marks:\n",
    "            return 0\n",
    "        return sum(self.marks.values()) / len(self.marks)\n"
   ]
  }
 ],
 "metadata": {
  "kernelspec": {
   "display_name": "Python 3",
   "language": "python",
   "name": "python3"
  },
  "language_info": {
   "codemirror_mode": {
    "name": "ipython",
    "version": 3
   },
   "file_extension": ".py",
   "mimetype": "text/x-python",
   "name": "python",
   "nbconvert_exporter": "python",
   "pygments_lexer": "ipython3",
   "version": "3.11.9"
  }
 },
 "nbformat": 4,
 "nbformat_minor": 5
}
